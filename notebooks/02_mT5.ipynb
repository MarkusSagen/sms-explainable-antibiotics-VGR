{
 "cells": [
  {
   "cell_type": "markdown",
   "id": "645cd244-77ae-4122-9834-8c800a43a973",
   "metadata": {},
   "source": [
    "# mT5 trained on cleaned data\n",
    "Trained on the cleaned text-to-text dataset.    \n",
    "T5 and mT5 are very large models and may not fit on a single GPU"
   ]
  },
  {
   "cell_type": "code",
   "execution_count": null,
   "id": "accomplished-march",
   "metadata": {},
   "outputs": [],
   "source": [
    "import torch\n",
    "import torch.nn as nn\n",
    "from torch.utils.data import DataLoader\n",
    "\n",
    "from transformers import T5Tokenizer, AutoTokenizer, AutoModelForSequenceClassification\n",
    "from transformers import MT5ForConditionalGeneration, AdamW, get_linear_schedule_with_warmup\n",
    "\n",
    "from datasets import load_dataset\n",
    "import numpy as np\n",
    "import pandas as pd\n",
    "from tqdm.notebook import tqdm\n",
    "\n",
    "from sklearn.metrics import accuracy_score, precision_recall_fscore_support"
   ]
  },
  {
   "cell_type": "code",
   "execution_count": null,
   "id": "controlled-foster",
   "metadata": {},
   "outputs": [],
   "source": [
    "np.random.seed(0)\n",
    "with pd.option_context('display.max_colwidth', None):\n",
    "    df = pd.read_csv(\"../data/seq_dataset.csv\")\n",
    "    df.columns = ['text', 'label']\n",
    "\n",
    "    random = df.iloc[np.random.permutation(len(df))]\n",
    "    train = random.iloc[:round(len(df)*.8)]\n",
    "    test = random.iloc[round(len(df)*.8):]  \n",
    "print(train.shape)\n",
    "print(test.shape)"
   ]
  },
  {
   "cell_type": "code",
   "execution_count": null,
   "id": "ahead-anniversary",
   "metadata": {},
   "outputs": [],
   "source": [
    "with pd.option_context('display.max_colwidth', None):\n",
    "    display(df.head(5))"
   ]
  },
  {
   "cell_type": "code",
   "execution_count": null,
   "id": "united-microwave",
   "metadata": {},
   "outputs": [],
   "source": [
    "with pd.option_context('display.max_colwidth', None):\n",
    "    train.to_csv('../data/seq_train.csv', index = False)\n",
    "    test.to_csv('../data/seq_test.csv', index = False)"
   ]
  },
  {
   "cell_type": "code",
   "execution_count": null,
   "id": "sonic-coverage",
   "metadata": {},
   "outputs": [],
   "source": [
    "with pd.option_context('display.max_colwidth', None):\n",
    "    display(train.head(5))"
   ]
  },
  {
   "cell_type": "code",
   "execution_count": null,
   "id": "municipal-effectiveness",
   "metadata": {},
   "outputs": [],
   "source": [
    "train_dataset = load_dataset(\"csv\", data_files='../data/seq_train.csv')\n",
    "test_dataset = load_dataset(\"csv\", data_files='../data/seq_test.csv')"
   ]
  },
  {
   "cell_type": "code",
   "execution_count": null,
   "id": "theoretical-offense",
   "metadata": {},
   "outputs": [],
   "source": [
    "train_dataset['train']"
   ]
  },
  {
   "cell_type": "code",
   "execution_count": null,
   "id": "alike-accent",
   "metadata": {},
   "outputs": [],
   "source": [
    "tokenizer = T5Tokenizer.from_pretrained(\"google/mt5-small\")\n",
    "model = MT5ForConditionalGeneration.from_pretrained(\"google/mt5-small\")"
   ]
  },
  {
   "cell_type": "code",
   "execution_count": null,
   "id": "constant-electronics",
   "metadata": {},
   "outputs": [],
   "source": [
    "train_text = tokenizer(train_dataset['train']['text'], padding='max_length', truncation=True,  max_length = 512, return_tensors=\"pt\")\n",
    "test_text = tokenizer(test_dataset['train']['text'], padding='max_length', truncation=True,  max_length = 512, return_tensors=\"pt\")\n",
    "\n",
    "with tokenizer.as_target_tokenizer():\n",
    "    train_labels = tokenizer(train_dataset['train']['label'], padding='max_length', truncation=True,  max_length = 512, return_tensors=\"pt\")\n",
    "    test_labels = tokenizer(test_dataset['train']['label'], padding='max_length', truncation=True,  max_length = 512, return_tensors=\"pt\")"
   ]
  },
  {
   "cell_type": "code",
   "execution_count": null,
   "id": "republican-jungle",
   "metadata": {},
   "outputs": [],
   "source": [
    "train_text['label'] = train_labels['input_ids']\n",
    "test_text['label'] = test_labels['input_ids']"
   ]
  },
  {
   "cell_type": "code",
   "execution_count": null,
   "id": "aggregate-wildlife",
   "metadata": {},
   "outputs": [],
   "source": [
    "train_text"
   ]
  },
  {
   "cell_type": "code",
   "execution_count": null,
   "id": "healthy-blast",
   "metadata": {},
   "outputs": [],
   "source": [
    "device = torch.device(\"cuda:0\" if torch.cuda.is_available() else \"cpu\")"
   ]
  },
  {
   "cell_type": "code",
   "execution_count": null,
   "id": "architectural-bulletin",
   "metadata": {},
   "outputs": [],
   "source": [
    "model.to(device)\n",
    "model.train()\n",
    "\n",
    "no_decay = ['bias', 'LayerNorm.weight']\n",
    "optimizer_grouped_parameters = [\n",
    "    {'params': [p for n, p in model.named_parameters() if not any(nd in n for nd in no_decay)], 'weight_decay': 0.05},\n",
    "    {'params': [p for n, p in model.named_parameters() if any(nd in n for nd in no_decay)], 'weight_decay': 0.0}\n",
    "]\n",
    "optimizer = AdamW(optimizer_grouped_parameters, lr=10e-5)#0.001)\n",
    "\n",
    "num_warmup_steps = 500\n",
    "e = 5\n",
    "train_steps = 2042\n",
    "num_train_steps = e*train_steps\n",
    "#scheduler = get_linear_schedule_with_warmup(optimizer, num_warmup_steps, num_train_steps)"
   ]
  },
  {
   "cell_type": "code",
   "execution_count": null,
   "id": "humanitarian-cleaning",
   "metadata": {},
   "outputs": [],
   "source": [
    "def validate(tokenizer, model, test_text, best_acc, metrics=False):\n",
    "    l = len(test_text['input_ids'])\n",
    "    batch_size = 64\n",
    "    model.eval()\n",
    "\n",
    "    predictions = []\n",
    "    actuals = []\n",
    "    with torch.no_grad():\n",
    "        for i in tqdm(range(0,l,batch_size)):\n",
    "            if i == int(np.floor(l/batch_size)):\n",
    "                input_ids = test_text['input_ids'][i:i+(l%batch_size)].to(device)\n",
    "                attention_mask = test_text['attention_mask'][i:i+(l%batch_size)].to(device)\n",
    "                labels = test_text['label'][i:i+(l%batch_size)].to(device)\n",
    "            else:\n",
    "                input_ids = test_text['input_ids'][i:i+batch_size].to(device)\n",
    "                attention_mask = test_text['attention_mask'][i:i+batch_size].to(device)\n",
    "                labels = test_text['label'][i:i+batch_size].to(device)\n",
    "\n",
    "            generated_ids = model.generate(input_ids = input_ids, attention_mask=attention_mask)\n",
    "\n",
    "            preds = [tokenizer.decode(g, skip_special_tokens=True, clean_up_tokenization_spaces=True) for g in generated_ids]\n",
    "            target = [tokenizer.decode(t, skip_special_tokens=True, clean_up_tokenization_spaces=True)for t in labels]\n",
    "\n",
    "            predictions.extend(preds)\n",
    "            actuals.extend(target)\n",
    "            #if i == 0:\n",
    "                #print(predictions)\n",
    "                #print(actuals)\n",
    "            if metrics:\n",
    "                predictions_int = [1 if p=='Positive' else 0 for p in predictions]\n",
    "                actuals_int = [1 if a=='Positive' else 0 for a in actuals]\n",
    "                precision, recall, f1, _ = precision_recall_fscore_support(actuals_int, predictions_int, average='binary')\n",
    "            accuracy = accuracy_score(actuals, predictions)\n",
    "            \n",
    "            if accuracy>best_acc:\n",
    "                best_acc = accuracy\n",
    "                torch.save(model.state_dict(), \"../models/mt5.pt\")\n",
    "            \n",
    "        print(\"Validation accuracy: \",accuracy)\n",
    "        if metrics:\n",
    "            print(\"Validation precision: \",precision)\n",
    "            print(\"Validation recall: \",recall)\n",
    "            print(\"Validation f1: \",f1)\n",
    "    return best_acc"
   ]
  },
  {
   "cell_type": "code",
   "execution_count": null,
   "id": "previous-agreement",
   "metadata": {},
   "outputs": [],
   "source": [
    "#model.load_state_dict(torch.load(\"../models/mt5.pt\"))"
   ]
  },
  {
   "cell_type": "code",
   "execution_count": null,
   "id": "numerous-garlic",
   "metadata": {},
   "outputs": [],
   "source": [
    "step = 0\n",
    "best_acc = 0\n",
    "l = len(train_text['input_ids'])\n",
    "batch_size = 4\n",
    "for epoch in tqdm(range(e)):\n",
    "    for i in tqdm(range(0,l,batch_size)):\n",
    "        if step % int(l/batch_size/2)==0 and step != 0:\n",
    "            best_acc = validate(tokenizer,model,test_text, best_acc)\n",
    "        optimizer.zero_grad()\n",
    "        if i == int(np.floor(l/batch_size)):\n",
    "            input_ids = train_text['input_ids'][i:i+(l%batch_size)].to(device)\n",
    "            attention_mask = train_text['attention_mask'][i:i+(l%batch_size)].to(device)\n",
    "            labels = train_text['label'][i:i+(l%batch_size)].to(device)\n",
    "        else:\n",
    "            input_ids = train_text['input_ids'][i:i+batch_size].to(device)\n",
    "            attention_mask = train_text['attention_mask'][i:i+batch_size].to(device)\n",
    "            labels = train_text['label'][i:i+batch_size].to(device)\n",
    "        outputs = model(input_ids = input_ids, attention_mask=attention_mask, labels=labels)\n",
    "        loss = outputs[0]\n",
    "        loss.backward()\n",
    "        optimizer.step()\n",
    "        #scheduler.step()\n",
    "        step+=1       "
   ]
  },
  {
   "cell_type": "code",
   "execution_count": null,
   "id": "twelve-vitamin",
   "metadata": {},
   "outputs": [],
   "source": [
    "l = len(test_text['input_ids'])\n",
    "batch_size = 64\n",
    "best_acc = 0\n",
    "model.load_state_dict(torch.load(\"../models/mt5.pt\"))\n",
    "accuracy = validate(tokenizer, model, test_text, best_acc, metrics=True)"
   ]
  },
  {
   "cell_type": "code",
   "execution_count": null,
   "id": "municipal-voluntary",
   "metadata": {},
   "outputs": [],
   "source": [
    "num_parameters = sum(p.numel() for p in model.parameters())"
   ]
  },
  {
   "cell_type": "code",
   "execution_count": null,
   "id": "fifty-prairie",
   "metadata": {},
   "outputs": [],
   "source": [
    "num_parameters"
   ]
  },
  {
   "cell_type": "code",
   "execution_count": null,
   "id": "affected-chamber",
   "metadata": {},
   "outputs": [],
   "source": []
  }
 ],
 "metadata": {
  "kernelspec": {
   "display_name": "Python 3 (ipykernel)",
   "language": "python",
   "name": "python3"
  },
  "language_info": {
   "codemirror_mode": {
    "name": "ipython",
    "version": 3
   },
   "file_extension": ".py",
   "mimetype": "text/x-python",
   "name": "python",
   "nbconvert_exporter": "python",
   "pygments_lexer": "ipython3",
   "version": "3.8.5"
  }
 },
 "nbformat": 4,
 "nbformat_minor": 5
}

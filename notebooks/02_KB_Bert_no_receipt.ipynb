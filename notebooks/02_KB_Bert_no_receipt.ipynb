{
 "cells": [
  {
   "cell_type": "markdown",
   "id": "54e22e0e-94a3-49e7-a8b7-e8f68792693a",
   "metadata": {},
   "source": [
    "# BERT trained on cleaned data\n",
    "Trained on the cleaned dataset"
   ]
  },
  {
   "cell_type": "code",
   "execution_count": null,
   "id": "understanding-accused",
   "metadata": {},
   "outputs": [],
   "source": [
    "import torch\n",
    "import torch.nn as nn\n",
    "\n",
    "from transformers import BertTokenizer ,AutoTokenizer, AutoModelForSequenceClassification\n",
    "from transformers import BertForSequenceClassification, BertConfig, TrainingArguments, Trainer\n",
    "\n",
    "from datasets import load_dataset\n",
    "import numpy as np\n",
    "import pandas as pd\n",
    "\n",
    "from sklearn.metrics import accuracy_score, precision_recall_fscore_support"
   ]
  },
  {
   "cell_type": "code",
   "execution_count": null,
   "id": "dramatic-debut",
   "metadata": {},
   "outputs": [],
   "source": [
    "tokenizer = AutoTokenizer.from_pretrained('KB/bert-base-swedish-cased')\n",
    "model = AutoModelForSequenceClassification.from_pretrained('KB/bert-base-swedish-cased')"
   ]
  },
  {
   "cell_type": "code",
   "execution_count": null,
   "id": "outer-gardening",
   "metadata": {},
   "outputs": [],
   "source": [
    "device = torch.device(\"cuda:0\" if torch.cuda.is_available() else \"cpu\")\n",
    "#device = torch.device(\"cpu\")"
   ]
  },
  {
   "cell_type": "code",
   "execution_count": null,
   "id": "cognitive-drama",
   "metadata": {},
   "outputs": [],
   "source": [
    "class BertModelWrapper(nn.Module):\n",
    "    \n",
    "    def __init__(self, model):\n",
    "        super(BertModelWrapper, self).__init__()\n",
    "        self.model = model\n",
    "        \n",
    "    def forward(self, input_ids):        \n",
    "        outputs = self.model.bert(input_ids=input_ids)\n",
    "        logits = outputs[1]\n",
    "        return torch.softmax(logits, dim=1)[:, 1].unsqueeze(1)"
   ]
  },
  {
   "cell_type": "code",
   "execution_count": null,
   "id": "settled-collapse",
   "metadata": {},
   "outputs": [],
   "source": [
    "def input_ref(model_wrapper, sentence):\n",
    "    input_ids = torch.tensor([tokenizer.encode(sentence, add_special_tokens=True)], device=device)\n",
    "    \n",
    "    ref_token_id = tokenizer.pad_token_id # A token used for generating token reference\n",
    "    sep_token_id = tokenizer.sep_token_id # A token used as a separator between question and text and it is also added to the end of the text.\n",
    "    cls_token_id = tokenizer.cls_token_id # A token used for prepending to the concatenated question-text word sequence\n",
    "    \n",
    "    ref_input_ids = [cls_token_id] + (input_ids.size(1)-2) * [ref_token_id] + [sep_token_id]\n",
    "    ref_input_ids = torch.tensor([ref_input_ids], device=device)\n",
    "    \n",
    "    return input_ids, ref_input_ids"
   ]
  },
  {
   "cell_type": "code",
   "execution_count": null,
   "id": "provincial-uniform",
   "metadata": {},
   "outputs": [],
   "source": [
    "np.random.seed(0)\n",
    "with pd.option_context('display.max_colwidth', None):\n",
    "    df = pd.read_csv(\"../data/dataset_no_recipe.csv\")\n",
    "    df.columns = ['text', 'label']\n",
    "\n",
    "    random = df.iloc[np.random.permutation(len(df))]\n",
    "    train = random.iloc[:round(len(df)*.8)]\n",
    "    test = random.iloc[round(len(df)*.8):]  \n",
    "print(train.shape)\n",
    "print(test.shape)"
   ]
  },
  {
   "cell_type": "code",
   "execution_count": null,
   "id": "mobile-painting",
   "metadata": {},
   "outputs": [],
   "source": [
    "with pd.option_context('display.max_colwidth', None):\n",
    "    display(df.head(10))"
   ]
  },
  {
   "cell_type": "code",
   "execution_count": null,
   "id": "suburban-demand",
   "metadata": {},
   "outputs": [],
   "source": [
    "train['label'].value_counts(normalize=True)"
   ]
  },
  {
   "cell_type": "code",
   "execution_count": null,
   "id": "stone-providence",
   "metadata": {},
   "outputs": [],
   "source": [
    "test['label'].value_counts(normalize=True)"
   ]
  },
  {
   "cell_type": "code",
   "execution_count": null,
   "id": "least-surfing",
   "metadata": {},
   "outputs": [],
   "source": [
    "with pd.option_context('display.max_colwidth', None):\n",
    "    train.to_csv('../data/train2.csv', index = False)\n",
    "    test.to_csv('../data/test2.csv', index = False)"
   ]
  },
  {
   "cell_type": "code",
   "execution_count": null,
   "id": "lucky-poland",
   "metadata": {},
   "outputs": [],
   "source": [
    "train_dataset = load_dataset(\"csv\", data_files='../data/train2.csv')\n",
    "test_dataset = load_dataset(\"csv\", data_files='../data/test2.csv')"
   ]
  },
  {
   "cell_type": "code",
   "execution_count": null,
   "id": "meaning-jerusalem",
   "metadata": {},
   "outputs": [],
   "source": [
    "train_dataset['train']['text'][0]"
   ]
  },
  {
   "cell_type": "code",
   "execution_count": null,
   "id": "genetic-ratio",
   "metadata": {},
   "outputs": [],
   "source": [
    "def tokenize(batch):\n",
    "    return tokenizer(batch['text'], padding='max_length', truncation=True,  max_length = 512, add_special_tokens = True)\n",
    "\n",
    "train_dataset = train_dataset.map(tokenize, batched=True, batch_size=len(train_dataset))\n",
    "test_dataset = test_dataset.map(tokenize, batched=True, batch_size=len(test_dataset))\n",
    "train_dataset.set_format('torch', columns=['input_ids', 'attention_mask', 'label'])\n",
    "test_dataset.set_format('torch', columns=['input_ids', 'attention_mask', 'label'])"
   ]
  },
  {
   "cell_type": "code",
   "execution_count": null,
   "id": "thrown-saying",
   "metadata": {},
   "outputs": [],
   "source": [
    "train_dataset['train']"
   ]
  },
  {
   "cell_type": "code",
   "execution_count": null,
   "id": "present-alarm",
   "metadata": {},
   "outputs": [],
   "source": [
    "def compute_metrics(pred):\n",
    "    labels = pred.label_ids\n",
    "    preds = pred.predictions.argmax(-1)\n",
    "    precision, recall, f1, _ = precision_recall_fscore_support(labels, preds, average='binary')\n",
    "    acc = accuracy_score(labels, preds)\n",
    "    return {\n",
    "        'accuracy': acc,\n",
    "        'f1': f1,\n",
    "        'precision': precision,\n",
    "        'recall': recall\n",
    "    }\n",
    "\n",
    "training_args = TrainingArguments(\n",
    "    output_dir='./results',\n",
    "    num_train_epochs=1,\n",
    "    per_device_train_batch_size=16,\n",
    "    per_device_eval_batch_size=64,\n",
    "    warmup_steps=500,\n",
    "    weight_decay=0.01,\n",
    "    do_eval=True,\n",
    "    logging_dir='./logs',\n",
    ")\n",
    "\n",
    "trainer = Trainer(\n",
    "    model=model,\n",
    "    args=training_args,\n",
    "    compute_metrics=compute_metrics,\n",
    "    train_dataset=train_dataset['train'],\n",
    "    eval_dataset=test_dataset['train']\n",
    ")"
   ]
  },
  {
   "cell_type": "code",
   "execution_count": null,
   "id": "environmental-consumption",
   "metadata": {},
   "outputs": [],
   "source": [
    "trainer.train()"
   ]
  },
  {
   "cell_type": "code",
   "execution_count": null,
   "id": "instant-rebound",
   "metadata": {},
   "outputs": [],
   "source": [
    "trainer.evaluate()"
   ]
  },
  {
   "cell_type": "code",
   "execution_count": null,
   "id": "seven-middle",
   "metadata": {},
   "outputs": [],
   "source": [
    "trainer.save_model(\"../models/kb_bert.pt\")"
   ]
  },
  {
   "cell_type": "code",
   "execution_count": null,
   "id": "interesting-miracle",
   "metadata": {},
   "outputs": [],
   "source": []
  }
 ],
 "metadata": {
  "kernelspec": {
   "display_name": "Python 3 (ipykernel)",
   "language": "python",
   "name": "python3"
  },
  "language_info": {
   "codemirror_mode": {
    "name": "ipython",
    "version": 3
   },
   "file_extension": ".py",
   "mimetype": "text/x-python",
   "name": "python",
   "nbconvert_exporter": "python",
   "pygments_lexer": "ipython3",
   "version": "3.8.5"
  }
 },
 "nbformat": 4,
 "nbformat_minor": 5
}

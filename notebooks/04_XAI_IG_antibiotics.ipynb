{
 "cells": [
  {
   "cell_type": "code",
   "execution_count": null,
   "id": "regular-criminal",
   "metadata": {},
   "outputs": [],
   "source": [
    "import torch\n",
    "import torch.nn as nn\n",
    "\n",
    "from transformers import AutoTokenizer\n",
    "from transformers import AutoModelForSequenceClassification\n",
    "\n",
    "from datasets import load_dataset\n",
    "import numpy as np\n",
    "\n",
    "from captum.attr import LayerIntegratedGradients, GradientShap\n",
    "from captum.attr import visualization\n",
    "\n",
    "import shap\n",
    "import scipy as sp"
   ]
  },
  {
   "cell_type": "code",
   "execution_count": null,
   "id": "paperback-germany",
   "metadata": {},
   "outputs": [],
   "source": [
    "tokenizer = AutoTokenizer.from_pretrained('bert-base-multilingual-cased')\n",
    "model = AutoModelForSequenceClassification.from_pretrained('bert-base-multilingual-cased')\n",
    "model.load_state_dict(torch.load(\"../models/bert-base-multilingual-cased.pt\"))\n",
    "\n",
    "\n",
    "#tokenizer = AutoTokenizer.from_pretrained('bert-base-multilingual-cased')\n",
    "#model = AutoModelForSequenceClassification.from_pretrained('bert-base-multilingual-cased')\n",
    "#model.load_state_dict(torch.load(\"../models/bert-base-multilingual-cased.pt\"))\n",
    "device = torch.device(\"cuda:0\" if torch.cuda.is_available() else \"cpu\")"
   ]
  },
  {
   "cell_type": "code",
   "execution_count": null,
   "id": "civil-investment",
   "metadata": {},
   "outputs": [],
   "source": [
    "class BertModelWrapper(nn.Module):\n",
    "    \n",
    "    def __init__(self, model):\n",
    "        super(BertModelWrapper, self).__init__()\n",
    "        self.model = model\n",
    "        \n",
    "    def forward(self, input_ids):        \n",
    "        outputs = self.model(input_ids=input_ids)\n",
    "        logits = outputs.logits\n",
    "        return nn.functional.softmax(logits, dim=1)"
   ]
  },
  {
   "cell_type": "code",
   "execution_count": null,
   "id": "historic-thriller",
   "metadata": {},
   "outputs": [],
   "source": [
    "def input_ref(model_wrapper, sentence):\n",
    "    input_ids = torch.tensor([tokenizer.encode(sentence, add_special_tokens=True)], device=device)\n",
    "    \n",
    "    ref_token_id = tokenizer.pad_token_id # A token used for generating token reference\n",
    "    sep_token_id = tokenizer.sep_token_id # A token used as a separator between question and text and it is also added to the end of the text.\n",
    "    cls_token_id = tokenizer.cls_token_id # A token used for prepending to the concatenated question-text word sequence\n",
    "    \n",
    "    #ref_input_ids = [cls_token_id] + (input_ids.size(1)-2) * [ref_token_id] + [sep_token_id]\n",
    "    ref_input_ids = [ref_token_id] + (input_ids.size(1)-2) * [ref_token_id] + [ref_token_id]\n",
    "    ref_input_ids = torch.tensor([ref_input_ids], device=device)\n",
    "    \n",
    "    return input_ids, ref_input_ids"
   ]
  },
  {
   "cell_type": "code",
   "execution_count": null,
   "id": "unauthorized-robin",
   "metadata": {},
   "outputs": [],
   "source": [
    "def add_attributions_to_visualizer(attributions, tokens, pred, pred_ind, label, delta, vis_data_records):\n",
    "    attributions = attributions.sum(dim=2).squeeze(0)\n",
    "    #attributions = attributions / torch.norm(attributions)\n",
    "    attributions = attributions.detach().cpu().clone().numpy()\n",
    "    \n",
    "    # storing couple samples in an array for visualization purposes\n",
    "    vis_data_records.append(visualization.VisualizationDataRecord(\n",
    "                            attributions/np.linalg.norm(attributions),\n",
    "                            pred,\n",
    "                            pred_ind,\n",
    "                            label,\n",
    "                            \"label\",\n",
    "                            attributions.sum(),       \n",
    "                            tokens[:len(attributions)],\n",
    "                            delta))    "
   ]
  },
  {
   "cell_type": "code",
   "execution_count": null,
   "id": "friendly-decision",
   "metadata": {},
   "outputs": [],
   "source": [
    "test_dataset = load_dataset(\"csv\", data_files='../data/test2.csv')"
   ]
  },
  {
   "cell_type": "code",
   "execution_count": null,
   "id": "explicit-advance",
   "metadata": {},
   "outputs": [],
   "source": [
    "def tokenize(batch):\n",
    "    return tokenizer(batch['text'], padding='max_length', truncation=True,  max_length = 512, add_special_tokens = True)\n",
    "\n",
    "test_dataset = test_dataset.map(tokenize, batched=True, batch_size=len(test_dataset))\n",
    "test_dataset.set_format('torch', columns=['input_ids', 'attention_mask', 'label'])"
   ]
  },
  {
   "cell_type": "code",
   "execution_count": null,
   "id": "controlled-leader",
   "metadata": {},
   "outputs": [],
   "source": [
    "bert_model_wrapper = BertModelWrapper(model)\n",
    "lig = LayerIntegratedGradients(bert_model_wrapper, bert_model_wrapper.model.bert.embeddings)\n",
    "\n",
    "# accumalate couple samples in this array for visualization purposes\n",
    "vis_data_records_ig = []"
   ]
  },
  {
   "cell_type": "code",
   "execution_count": null,
   "id": "marked-prisoner",
   "metadata": {},
   "outputs": [],
   "source": [
    "model.to(device)\n",
    "bert_model_wrapper.eval()\n",
    "bert_model_wrapper.zero_grad()"
   ]
  },
  {
   "cell_type": "code",
   "execution_count": null,
   "id": "intended-cooling",
   "metadata": {},
   "outputs": [],
   "source": [
    "r = np.random.choice(len(test_dataset['train']))\n",
    "label = test_dataset['train']['label'][r].item()\n",
    "sentence = test_dataset['train']['text'][r]"
   ]
  },
  {
   "cell_type": "code",
   "execution_count": null,
   "id": "toxic-summer",
   "metadata": {},
   "outputs": [],
   "source": [
    "sentence"
   ]
  },
  {
   "cell_type": "code",
   "execution_count": null,
   "id": "distinct-drink",
   "metadata": {},
   "outputs": [],
   "source": [
    "input_ids, ref_input_ids = input_ref(bert_model_wrapper, sentence)\n",
    "\n",
    "if input_ids.shape[1]>512:\n",
    "    new_shape = input_ids.shape[1] - 512\n",
    "    input_ids = input_ids[:,:-new_shape]\n",
    "    ref_input_ids = ref_input_ids[:,:-new_shape]\n",
    "\n",
    "pred = bert_model_wrapper(input_ids)[:, 1].unsqueeze(1).item()\n",
    "pred_ind = round(pred)"
   ]
  },
  {
   "cell_type": "code",
   "execution_count": null,
   "id": "integrated-conspiracy",
   "metadata": {},
   "outputs": [],
   "source": [
    "pred"
   ]
  },
  {
   "cell_type": "code",
   "execution_count": null,
   "id": "meaning-health",
   "metadata": {},
   "outputs": [],
   "source": [
    "attributions, delta = lig.attribute(inputs=input_ids, n_steps=500,\n",
    "                                   baselines=ref_input_ids,\n",
    "                                    internal_batch_size=32,\n",
    "                                    return_convergence_delta=True,\n",
    "                                    target=pred_ind\n",
    "                                   )"
   ]
  },
  {
   "cell_type": "code",
   "execution_count": null,
   "id": "funded-pavilion",
   "metadata": {},
   "outputs": [],
   "source": [
    "print('pred: ', pred_ind, '(', '%.2f' % pred, ')', ', delta: ', abs(delta))\n",
    "\n",
    "tokens = tokenizer.convert_ids_to_tokens(input_ids[0].cpu().clone().numpy().tolist())    \n",
    "add_attributions_to_visualizer(attributions, tokens, pred, pred_ind, label, delta, vis_data_records_ig)"
   ]
  },
  {
   "cell_type": "code",
   "execution_count": null,
   "id": "horizontal-dispute",
   "metadata": {},
   "outputs": [],
   "source": [
    "visualization.visualize_text(vis_data_records_ig)"
   ]
  },
  {
   "cell_type": "code",
   "execution_count": null,
   "id": "accomplished-football",
   "metadata": {},
   "outputs": [],
   "source": [
    "def f(x):\n",
    "    tv = torch.tensor([tokenizer.encode(v, padding='max_length', max_length=512,truncation=True) for v in x]).cuda()    \n",
    "    attention_mask = (tv!=0).type(torch.int64).cuda()\n",
    "    outputs = model(tv,attention_mask=attention_mask)[0].detach().cpu().numpy()\n",
    "    scores = (np.exp(outputs).T / np.exp(outputs).sum(-1)).T\n",
    "    return scores"
   ]
  },
  {
   "cell_type": "code",
   "execution_count": null,
   "id": "respiratory-vienna",
   "metadata": {},
   "outputs": [],
   "source": [
    "explainer = shap.Explainer(f, tokenizer)\n",
    "shap_values = explainer([sentence])"
   ]
  },
  {
   "cell_type": "code",
   "execution_count": null,
   "id": "thorough-illinois",
   "metadata": {},
   "outputs": [],
   "source": [
    "shap.plots.text(shap_values[:,:,1])"
   ]
  },
  {
   "cell_type": "code",
   "execution_count": null,
   "id": "extra-withdrawal",
   "metadata": {},
   "outputs": [],
   "source": []
  },
  {
   "cell_type": "code",
   "execution_count": null,
   "id": "miniature-klein",
   "metadata": {},
   "outputs": [],
   "source": []
  },
  {
   "cell_type": "code",
   "execution_count": null,
   "id": "olympic-kidney",
   "metadata": {},
   "outputs": [],
   "source": []
  }
 ],
 "metadata": {
  "kernelspec": {
   "display_name": "Python 3 (ipykernel)",
   "language": "python",
   "name": "python3"
  },
  "language_info": {
   "codemirror_mode": {
    "name": "ipython",
    "version": 3
   },
   "file_extension": ".py",
   "mimetype": "text/x-python",
   "name": "python",
   "nbconvert_exporter": "python",
   "pygments_lexer": "ipython3",
   "version": "3.8.5"
  }
 },
 "nbformat": 4,
 "nbformat_minor": 5
}

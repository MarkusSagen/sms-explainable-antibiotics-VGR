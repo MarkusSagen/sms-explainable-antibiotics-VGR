{
 "cells": [
  {
   "cell_type": "code",
   "execution_count": null,
   "id": "helpful-joining",
   "metadata": {},
   "outputs": [],
   "source": [
    "import functools\n",
    "import shap\n",
    "import argparse\n",
    "import numpy as np \n",
    "import pandas as pd\n",
    "import seaborn as sns\n",
    "from sklearn.metrics import accuracy_score, precision_recall_fscore_support\n",
    "\n",
    "import torch\n",
    "import torch.nn as nn\n",
    "from datasets import load_dataset\n",
    "from torch.utils.data import DataLoader, Dataset\n",
    "from torch.utils.tensorboard import SummaryWriter\n",
    "\n",
    "from transformers import (\n",
    "    AdamW,\n",
    "    AutoConfig,\n",
    "    AutoModel,\n",
    "    AutoModelForPreTraining,\n",
    "    AutoModelForSequenceClassification,\n",
    "    AlbertForSequenceClassification,\n",
    "    MT5ForConditionalGeneration,\n",
    "    AutoModelWithLMHead,\n",
    "    AutoTokenizer,\n",
    "    AlbertTokenizer,\n",
    "    T5Tokenizer,\n",
    "    PretrainedConfig,\n",
    "    PreTrainedTokenizer,\n",
    ")\n",
    "from transformers.optimization import get_linear_schedule_with_warmup\n",
    "from captum.attr import visualization as viz\n",
    "\n",
    "shap.initjs()"
   ]
  },
  {
   "cell_type": "code",
   "execution_count": null,
   "id": "atlantic-combining",
   "metadata": {},
   "outputs": [],
   "source": [
    "#kb_bert = 'KB/bert-base-swedish-cased'\n",
    "kb_bert = 'KB/electra-base-swedish-cased-discriminator'\n",
    "tokenizer = AutoTokenizer.from_pretrained(kb_bert)\n",
    "model = AutoModelForSequenceClassification.from_pretrained(kb_bert)\n",
    "\n",
    "device = torch.device(\"cuda:0\" if torch.cuda.is_available() else \"cpu\")\n",
    "#model.load_state_dict(torch.load(\"../models/KB/bert-base-swedish-cased.pt\"))\n",
    "model.load_state_dict(torch.load(\"../models/KB/electra-base-swedish-cased-discriminator.pt\"))\n",
    "\n",
    "model = model.to(device)\n",
    "\n",
    "vis_data_records = []"
   ]
  },
  {
   "cell_type": "code",
   "execution_count": null,
   "id": "commercial-right",
   "metadata": {},
   "outputs": [],
   "source": [
    "RANDOM_SEED = 0\n",
    "np.random.seed(RANDOM_SEED)\n",
    "torch.manual_seed(RANDOM_SEED)\n",
    "\n",
    "df = pd.read_csv(\"../data/dataset_no_recipe.csv\")\n",
    "df.columns = ['text', 'label']\n",
    "random = df.iloc[np.random.permutation(len(df))]\n",
    "train = random.iloc[:round(len(df)*.8)]\n",
    "test = random.iloc[round(len(df)*.8):]\n",
    "test.to_csv('../data/models/test2.csv', index = False)\n",
    "print(train.shape)\n",
    "print(test.shape)"
   ]
  },
  {
   "cell_type": "code",
   "execution_count": null,
   "id": "tropical-joyce",
   "metadata": {},
   "outputs": [],
   "source": [
    "test_dataset = load_dataset(\"csv\", data_files='../data/test2.csv')\n",
    "\n",
    "def tokenize(batch):\n",
    "    return tokenizer(batch['text'], padding='max_length', truncation=True,  max_length = 512, add_special_tokens = True)\n",
    "\n",
    "test_dataset = test_dataset.map(tokenize, batched=True, batch_size=len(test_dataset))\n",
    "test_dataset.set_format('torch', columns=['input_ids', 'attention_mask', 'label'])"
   ]
  },
  {
   "cell_type": "code",
   "execution_count": null,
   "id": "creative-surgeon",
   "metadata": {},
   "outputs": [],
   "source": [
    "def predict_fn(input_ids, attention_mask=None, batch_size=64, label=None,\n",
    "               output_logits=False, repeat_input_ids=False):\n",
    "    \"\"\"\n",
    "    Wrapper function for a Huggingface Transformers model into the format that KernelSHAP expects,\n",
    "    i.e. where inputs and outputs are numpy arrays.\n",
    "    \"\"\"\n",
    "\n",
    "    input_ids = torch.tensor(input_ids, device=device)\n",
    "    attention_mask = torch.ones_like(input_ids, device=device) if attention_mask is None else torch.tensor(attention_mask, device=device)\n",
    "\n",
    "    if repeat_input_ids:\n",
    "        assert input_ids.shape[0] == 1\n",
    "        input_ids = input_ids.repeat(attention_mask.shape[0], 1)\n",
    " \n",
    "    ds = torch.utils.data.TensorDataset(input_ids.long(), attention_mask.long())\n",
    "    dl = torch.utils.data.DataLoader(ds, batch_size=batch_size)\n",
    "    probas = []\n",
    "    logits = []\n",
    "    with torch.no_grad():\n",
    "        for batch in dl:\n",
    "            out = model(batch[0], attention_mask=batch[1])\n",
    "            logits.append(out[0].clone().detach())\n",
    "            probas.append(torch.nn.functional.softmax(out[0],\n",
    "                                                      dim=1).detach())\n",
    "    logits = torch.cat(logits, dim=0).detach().cpu().clone().numpy()\n",
    "    probas = torch.cat(probas, dim=0).detach().cpu().clone().numpy()\n",
    "\n",
    "    if label is not None:\n",
    "        probas = probas[:, label]\n",
    "        logits = logits[:, label]\n",
    "\n",
    "    return (probas, logits) if output_logits else probas\n",
    "\n",
    "def tokens2words(tokens, seq, token_prefix=\"##\"):\n",
    "    \"\"\"\n",
    "    Utility function to aggregate 'seq' on word-level based on 'tokens'\n",
    "    \"\"\"\n",
    "\n",
    "    tmp = []\n",
    "    for token, x in zip(tokens, seq):\n",
    "        if token.startswith(token_prefix):\n",
    "            if type(x) == str:\n",
    "                x = x.replace(token_prefix,\"\")\n",
    "            tmp[-1] += x\n",
    "        else:\n",
    "            if type(x) == str:\n",
    "                tmp.append(x)\n",
    "            else:\n",
    "                tmp.append(x.item())\n",
    "\n",
    "    return tmp if type(tmp[-1]) == str else torch.tensor(tmp, device=device)\n",
    "\n",
    "def add_attributions_to_visualizer(attributions, pred, pred_ind, label, tokens, delta, vis_data_records):\n",
    "    # storing couple samples in an array for visualization purposes\n",
    "    vis_data_records.append(viz.VisualizationDataRecord(\n",
    "                            attributions/attributions.norm(),\n",
    "                            pred,\n",
    "                            pred_ind,\n",
    "                            label,\n",
    "                            pred_ind,\n",
    "                            attributions.sum(),       \n",
    "                            tokens,\n",
    "                            delta)) \n",
    "   "
   ]
  },
  {
   "cell_type": "code",
   "execution_count": null,
   "id": "proud-rider",
   "metadata": {},
   "outputs": [],
   "source": [
    "nsamples = 500\n",
    "idx = 370\n",
    "#idx = np.random.choice(len(test_dataset['train']))\n",
    "#ref_token = tokenizer.mask_token_id # Could also consider <UNK> or <PAD> tokens\n",
    "ref_token = tokenizer.pad_token_id # Could also consider <UNK> or <PAD> tokens"
   ]
  },
  {
   "cell_type": "code",
   "execution_count": null,
   "id": "chief-engineering",
   "metadata": {},
   "outputs": [],
   "source": [
    "test_dataset['train']['text'][idx]"
   ]
  },
  {
   "cell_type": "code",
   "execution_count": null,
   "id": "sustainable-sending",
   "metadata": {},
   "outputs": [],
   "source": [
    "input_x = test_dataset['train']\n",
    "input_text = input_x['text'][idx]\n",
    "label = input_x['label'][idx]\n",
    "input_ids = input_x['input_ids'][idx].unsqueeze(0)\n",
    "attention_mask = input_x['attention_mask'][idx].unsqueeze(0)\n",
    "\n",
    "input_tokens = tokenizer.convert_ids_to_tokens(input_ids[0])\n",
    "input_words = tokens2words(input_tokens, input_tokens)\n",
    "#pred = predict_fn(input_ids=input_ids, attention_mask=attention_mask)\n",
    "pred = predict_fn(input_ids=input_ids)\n",
    "pred_label = pred.argmax()\n",
    "pred_p = pred[0, pred_label]"
   ]
  },
  {
   "cell_type": "code",
   "execution_count": null,
   "id": "third-benjamin",
   "metadata": {},
   "outputs": [],
   "source": [
    "baseline = input_ids.detach().cpu().clone().numpy()\n",
    "baseline_attn = np.zeros_like(input_ids)\n",
    "\n",
    "# Keep CLS and SEP tokens fixed in baseline\n",
    "baseline[:,1:-1] = ref_token\n",
    "#baseline_attn[:, 0] = 1\n",
    "#baseline_attn[:, -1] = 1\n",
    "\n",
    "predict_fn_label = functools.partial(predict_fn, label=pred_label)\n",
    "#predict_fn_label_attn = functools.partial(predict_fn_label, input_ids, repeat_input_ids=True)\n",
    "\n",
    "explainer = shap.KernelExplainer(predict_fn_label, baseline)\n",
    "#explainer_attn = shap.KernelExplainer(predict_fn_label_attn, baseline_attn)\n",
    "\n",
    "phi = explainer.shap_values(input_ids.detach().cpu().clone().numpy(), nsamples=500)\n",
    "phi_words = tokens2words(input_tokens, phi.squeeze())\n",
    "\n",
    "phi.shape\n",
    "explainer.expected_value"
   ]
  },
  {
   "cell_type": "code",
   "execution_count": null,
   "id": "central-poster",
   "metadata": {},
   "outputs": [],
   "source": [
    "baseline"
   ]
  },
  {
   "cell_type": "code",
   "execution_count": null,
   "id": "vocal-coating",
   "metadata": {},
   "outputs": [],
   "source": [
    "i = input_words.index('[SEP]') + 1\n",
    "\n",
    "add_attributions_to_visualizer(phi_words[:i], pred_p, pred_label, label, input_words[:i], None, vis_data_records)\n",
    "\n",
    "#vis_data_records.append(viz.VisualizationDataRecord(\n",
    "    #phi_words[:i]/phi_words[:i].norm(), pred_p, pred_label, label,\n",
    "    #pred_label, phi_words[:i].sum(), input_words[:i], None))\n",
    "\n",
    "#phi_attn = explainer_attn.shap_values(np.ones_like(input_ids), nsamples=500)\n",
    "#phi_attn_words = tokens2words(input_tokens, phi_attn.squeeze())\n",
    "#viz_rec_attn = [viz.VisualizationDataRecord(\n",
    "    #phi_attn_words[:idx]/phi_attn_words[:idx].norm(), pred_p, pred_label, label,\n",
    "    #pred_label, phi_attn_words[:idx].sum(), input_words[:idx], None)]"
   ]
  },
  {
   "cell_type": "code",
   "execution_count": null,
   "id": "amino-cambodia",
   "metadata": {},
   "outputs": [],
   "source": [
    "viz.visualize_text(vis_data_records)"
   ]
  },
  {
   "cell_type": "code",
   "execution_count": null,
   "id": "burning-outside",
   "metadata": {},
   "outputs": [],
   "source": [
    "pred_p"
   ]
  },
  {
   "cell_type": "code",
   "execution_count": null,
   "id": "employed-politics",
   "metadata": {},
   "outputs": [],
   "source": [
    "phi_words"
   ]
  },
  {
   "cell_type": "code",
   "execution_count": null,
   "id": "considerable-deputy",
   "metadata": {},
   "outputs": [],
   "source": [
    "phi_words"
   ]
  },
  {
   "cell_type": "code",
   "execution_count": null,
   "id": "neither-coach",
   "metadata": {},
   "outputs": [],
   "source": [
    "test_dataset['train']"
   ]
  },
  {
   "cell_type": "code",
   "execution_count": null,
   "id": "optical-daniel",
   "metadata": {},
   "outputs": [],
   "source": [
    "input_x = test_dataset['train']\n",
    "input_text = input_x['text']\n",
    "attention_mask = input_x['attention_mask']\n",
    "label = input_x['label']\n",
    "input_ids = input_x['input_ids']\n",
    "\n",
    "pred = predict_fn(input_ids=input_ids, attention_mask=attention_mask, output_logits=True)\n",
    "sns.distplot(pred[0])\n"
   ]
  },
  {
   "cell_type": "code",
   "execution_count": null,
   "id": "impaired-brand",
   "metadata": {},
   "outputs": [],
   "source": [
    "accuracy_score(label.numpy(), np.argmax(pred[0],axis=1))\n"
   ]
  },
  {
   "cell_type": "code",
   "execution_count": null,
   "id": "occasional-appearance",
   "metadata": {},
   "outputs": [],
   "source": [
    "pred2 = predict_fn(input_ids=input_ids, output_logits=True)\n",
    "sns.distplot(pred2[0])\n"
   ]
  },
  {
   "cell_type": "code",
   "execution_count": null,
   "id": "headed-intent",
   "metadata": {},
   "outputs": [],
   "source": [
    "accuracy_score(label.numpy(), np.argmax(pred2[0],axis=1))\n"
   ]
  },
  {
   "cell_type": "code",
   "execution_count": null,
   "id": "trying-garage",
   "metadata": {},
   "outputs": [],
   "source": [
    "positive_mask = np.where(label==1,True, False)\n",
    "pred_pos = predict_fn(input_ids[positive_mask], attention_mask=attention_mask[positive_mask])\n",
    "sns.distplot(pred_pos)"
   ]
  },
  {
   "cell_type": "code",
   "execution_count": null,
   "id": "minus-baltimore",
   "metadata": {},
   "outputs": [],
   "source": [
    "pred_neg = predict_fn(input_ids[~positive_mask], attention_mask=attention_mask[~positive_mask])\n",
    "sns.distplot(pred_neg)"
   ]
  },
  {
   "cell_type": "code",
   "execution_count": null,
   "id": "mighty-eagle",
   "metadata": {},
   "outputs": [],
   "source": [
    "mask_correct = np.equal(np.argmax(pred[0],axis=1),label) \n",
    "\n",
    "pred_cor = predict_fn(input_ids[mask_correct], attention_mask=attention_mask[mask_correct])\n",
    "sns.distplot(pred_cor)"
   ]
  },
  {
   "cell_type": "code",
   "execution_count": null,
   "id": "differential-norfolk",
   "metadata": {},
   "outputs": [],
   "source": [
    "pred_incor = predict_fn(input_ids[~mask_correct], attention_mask=attention_mask[~mask_correct])\n",
    "sns.distplot(pred_incor)"
   ]
  },
  {
   "cell_type": "code",
   "execution_count": null,
   "id": "vanilla-offense",
   "metadata": {},
   "outputs": [],
   "source": [
    "len(label)"
   ]
  },
  {
   "cell_type": "code",
   "execution_count": null,
   "id": "divine-sacramento",
   "metadata": {},
   "outputs": [],
   "source": [
    "predict_fn_label = functools.partial(predict_fn, label=1)\n",
    "explainer = shap.KernelExplainer(predict_fn_label, baseline)\n",
    "phi = explainer.shap_values(input_ids = input_ids.detach().cpu().clone().numpy(), nsamples=nsamples)"
   ]
  },
  {
   "cell_type": "code",
   "execution_count": null,
   "id": "fatal-arrow",
   "metadata": {},
   "outputs": [],
   "source": [
    "import pickle\n",
    "\n",
    "# Store data (serialize)\n",
    "with open('../data/'+ kb_bert +'.pickle', 'wb') as handle:\n",
    "    pickle.dump(phi, handle, protocol=pickle.HIGHEST_PROTOCOL)\n",
    "\n",
    "# Load data (deserialize)\n",
    "with open('../data/'+ kb_bert +'.pickle', 'rb') as handle:\n",
    "    unserialized_data = pickle.load(handle)\n",
    "\n",
    "print(phi == unserialized_data)"
   ]
  },
  {
   "cell_type": "code",
   "execution_count": null,
   "id": "primary-camera",
   "metadata": {},
   "outputs": [],
   "source": [
    "input_ids.shape"
   ]
  },
  {
   "cell_type": "code",
   "execution_count": null,
   "id": "cardiac-narrow",
   "metadata": {},
   "outputs": [],
   "source": [
    "phi.shape"
   ]
  },
  {
   "cell_type": "code",
   "execution_count": null,
   "id": "banner-responsibility",
   "metadata": {},
   "outputs": [],
   "source": [
    "#shap.force_plot(explainer.expected_value, phi, input_ids.detach().cpu().clone().numpy())"
   ]
  },
  {
   "cell_type": "code",
   "execution_count": null,
   "id": "thousand-duncan",
   "metadata": {},
   "outputs": [],
   "source": [
    "#shap.summary_plot(phi, input_ids[-100:].detach().cpu().clone().numpy())"
   ]
  },
  {
   "cell_type": "code",
   "execution_count": null,
   "id": "stretch-luxembourg",
   "metadata": {},
   "outputs": [],
   "source": []
  },
  {
   "cell_type": "code",
   "execution_count": null,
   "id": "inner-opening",
   "metadata": {},
   "outputs": [],
   "source": [
    "input_tokens = []\n",
    "features = {}\n",
    "for i in range(input_ids.shape[0]):\n",
    "    input_tokens = tokenizer.convert_ids_to_tokens(input_ids[-i,:])\n",
    "    input_words = tokens2words(input_tokens, input_tokens)\n",
    "    phi_words = tokens2words(input_tokens, phi[i].squeeze())\n",
    "    for j in range(len(input_words)):\n",
    "        if input_words[j] in features.keys():\n",
    "            old_val = features[input_words[j]]\n",
    "            #features[input_words[j]] = ((phi_words[j]/phi_words.norm()).item() + old_val[0], old_val[1]+1)\n",
    "            features[input_words[j]] = ((phi_words[j]).item() + old_val[0], old_val[1]+1)\n",
    "        else:\n",
    "            #features[input_words[j]] = ((phi_words[j]/phi_words.norm()).item(), 1)\n",
    "            features[input_words[j]] = ((phi_words[j]).item(), 1)\n"
   ]
  },
  {
   "cell_type": "code",
   "execution_count": null,
   "id": "common-fleece",
   "metadata": {},
   "outputs": [],
   "source": [
    "explainer.expected_value"
   ]
  },
  {
   "cell_type": "code",
   "execution_count": null,
   "id": "opening-engineer",
   "metadata": {},
   "outputs": [],
   "source": [
    "{k: v for k, v in sorted(features.items(), key=lambda item: item[1][0], reverse=True)}"
   ]
  },
  {
   "cell_type": "code",
   "execution_count": null,
   "id": "straight-orange",
   "metadata": {},
   "outputs": [],
   "source": []
  }
 ],
 "metadata": {
  "kernelspec": {
   "display_name": "Python 3 (ipykernel)",
   "language": "python",
   "name": "python3"
  },
  "language_info": {
   "codemirror_mode": {
    "name": "ipython",
    "version": 3
   },
   "file_extension": ".py",
   "mimetype": "text/x-python",
   "name": "python",
   "nbconvert_exporter": "python",
   "pygments_lexer": "ipython3",
   "version": "3.8.5"
  }
 },
 "nbformat": 4,
 "nbformat_minor": 5
}

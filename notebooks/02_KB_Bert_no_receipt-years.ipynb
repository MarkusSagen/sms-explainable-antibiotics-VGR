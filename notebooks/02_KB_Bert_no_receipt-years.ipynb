{
 "cells": [
  {
   "cell_type": "markdown",
   "id": "139059cd-e53d-4af7-8a00-292754836e6f",
   "metadata": {},
   "source": [
    "# BERT trained on cleaned data\n",
    "Trained on the cleaned dataset"
   ]
  },
  {
   "cell_type": "code",
   "execution_count": null,
   "id": "standard-destiny",
   "metadata": {},
   "outputs": [],
   "source": [
    "import torch\n",
    "import torch.nn as nn\n",
    "\n",
    "from transformers import BertTokenizer ,AutoTokenizer, AutoModelForSequenceClassification\n",
    "from transformers import BertForSequenceClassification, BertConfig, TrainingArguments, Trainer\n",
    "\n",
    "from datasets import load_dataset\n",
    "import numpy as np\n",
    "import pandas as pd\n",
    "\n",
    "from sklearn.metrics import accuracy_score, precision_recall_fscore_support"
   ]
  },
  {
   "cell_type": "code",
   "execution_count": null,
   "id": "hollow-driver",
   "metadata": {},
   "outputs": [],
   "source": [
    "tokenizer = AutoTokenizer.from_pretrained('KB/bert-base-swedish-cased')\n",
    "model = AutoModelForSequenceClassification.from_pretrained('KB/bert-base-swedish-cased')"
   ]
  },
  {
   "cell_type": "code",
   "execution_count": null,
   "id": "explicit-evans",
   "metadata": {
    "tags": []
   },
   "outputs": [],
   "source": [
    "device = torch.device(\"cuda:0\" if torch.cuda.is_available() else \"cpu\")\n",
    "model.to(device)"
   ]
  },
  {
   "cell_type": "code",
   "execution_count": null,
   "id": "detailed-turtle",
   "metadata": {},
   "outputs": [],
   "source": [
    "np.random.seed(0)\n",
    "with pd.option_context('display.max_colwidth', None):\n",
    "    df = pd.read_csv(\"../data/dataset_no_recipe.csv\")\n",
    "    df.columns = ['text', 'label']\n",
    "    \n",
    "    random = df.iloc[np.random.permutation(len(df))]\n",
    "    train = random.iloc[:round(len(df)*.8)]\n",
    "    test = random.iloc[round(len(df)*.8):] \n",
    "\n",
    "print(train.shape)\n",
    "print(test.shape)"
   ]
  },
  {
   "cell_type": "code",
   "execution_count": null,
   "id": "acute-interpretation",
   "metadata": {},
   "outputs": [],
   "source": [
    "line = train['text'][717]\n",
    "print(line)\n",
    "line_s = line.split(' ')\n",
    "\n",
    "mask_token = tokenizer.mask_token_id\n",
    "line_s[6] = '[MASK]'\n",
    "new_line = \" \".join(line_s)\n",
    "en = tokenizer.encode(new_line)\n",
    "tokenizer.decode(en)"
   ]
  },
  {
   "cell_type": "code",
   "execution_count": null,
   "id": "curious-producer",
   "metadata": {},
   "outputs": [],
   "source": [
    "with pd.option_context('display.max_colwidth', None):\n",
    "    display(df.head(10))"
   ]
  },
  {
   "cell_type": "code",
   "execution_count": null,
   "id": "limiting-correspondence",
   "metadata": {},
   "outputs": [],
   "source": [
    "train['label'].value_counts(normalize=True)"
   ]
  },
  {
   "cell_type": "code",
   "execution_count": null,
   "id": "critical-romantic",
   "metadata": {},
   "outputs": [],
   "source": [
    "test['label'].value_counts(normalize=True)"
   ]
  },
  {
   "cell_type": "code",
   "execution_count": null,
   "id": "nominated-blame",
   "metadata": {},
   "outputs": [],
   "source": [
    "with pd.option_context('display.max_colwidth', None):\n",
    "    train.to_csv('../data/train2.csv', index = False)\n",
    "    test.to_csv('../data/test2.csv', index = False)"
   ]
  },
  {
   "cell_type": "code",
   "execution_count": null,
   "id": "identical-wellington",
   "metadata": {},
   "outputs": [],
   "source": [
    "train_dataset = load_dataset(\"csv\", data_files='../data/train2.csv')\n",
    "test_dataset = load_dataset(\"csv\", data_files='../data/test2.csv')"
   ]
  },
  {
   "cell_type": "code",
   "execution_count": null,
   "id": "smooth-synthetic",
   "metadata": {},
   "outputs": [],
   "source": [
    "train_dataset['train']['text'][0]"
   ]
  },
  {
   "cell_type": "code",
   "execution_count": null,
   "id": "varied-soccer",
   "metadata": {},
   "outputs": [],
   "source": [
    "#longest = 0\n",
    "#for j in range(len(train_dataset['train']['text'])):\n",
    "    #l = len(train_dataset['train']['text'][j])\n",
    "    #if l>longest:\n",
    "        #longest=l\n",
    "        #idx = j\n",
    "#print(longest,idx)"
   ]
  },
  {
   "cell_type": "code",
   "execution_count": null,
   "id": "moving-courtesy",
   "metadata": {},
   "outputs": [],
   "source": [
    "#longest = 0\n",
    "#for j in range(len(test_dataset['train']['text'])):\n",
    "    #l = len(test_dataset['train']['text'][j])\n",
    "    #if l>longest:\n",
    "        #longest=l\n",
    "        #idx = j\n",
    "#print(longest,idx)"
   ]
  },
  {
   "cell_type": "code",
   "execution_count": null,
   "id": "perfect-reconstruction",
   "metadata": {},
   "outputs": [],
   "source": [
    "def tokenize(batch):\n",
    "    return tokenizer(batch['text'], padding='max_length', truncation=True,  max_length = 512, add_special_tokens = True)\n",
    "\n",
    "train_dataset = train_dataset.map(tokenize, batched=True, batch_size=len(train_dataset))\n",
    "test_dataset = test_dataset.map(tokenize, batched=True, batch_size=len(test_dataset))\n",
    "train_dataset.set_format('torch', columns=['input_ids', 'attention_mask', 'label'])\n",
    "test_dataset.set_format('torch', columns=['input_ids', 'attention_mask', 'label'])"
   ]
  },
  {
   "cell_type": "code",
   "execution_count": null,
   "id": "after-abuse",
   "metadata": {},
   "outputs": [],
   "source": [
    "train_dataset['train']['input_ids'][1248]"
   ]
  },
  {
   "cell_type": "code",
   "execution_count": null,
   "id": "checked-explorer",
   "metadata": {},
   "outputs": [],
   "source": [
    "train_dataset['train']"
   ]
  },
  {
   "cell_type": "code",
   "execution_count": null,
   "id": "standard-listening",
   "metadata": {},
   "outputs": [],
   "source": [
    "def compute_metrics(pred):\n",
    "    labels = pred.label_ids\n",
    "    preds = pred.predictions.argmax(-1)\n",
    "    precision, recall, f1, _ = precision_recall_fscore_support(labels, preds, average='binary')\n",
    "    acc = accuracy_score(labels, preds)\n",
    "    return {\n",
    "        'accuracy': acc,\n",
    "        'f1': f1,\n",
    "        'precision': precision,\n",
    "        'recall': recall\n",
    "    }\n",
    "\n",
    "training_args = TrainingArguments(\n",
    "    output_dir='./results',\n",
    "    evaluation_strategy = \"steps\",\n",
    "    eval_steps = 250,\n",
    "    logging_steps = 250,\n",
    "    num_train_epochs=6,\n",
    "    per_device_train_batch_size=16,\n",
    "    per_device_eval_batch_size=64,\n",
    "    warmup_steps=500,\n",
    "    learning_rate=5e-5,\n",
    "    weight_decay=0.01,\n",
    "    do_eval=True,\n",
    "    logging_dir='./logs',\n",
    "    load_best_model_at_end=True,\n",
    "    metric_for_best_model=\"eval_accuracy\",\n",
    ")\n",
    "\n",
    "trainer = Trainer(\n",
    "    model=model,\n",
    "    args=training_args,\n",
    "    compute_metrics=compute_metrics,\n",
    "    train_dataset=train_dataset['train'],\n",
    "    eval_dataset=test_dataset['train']\n",
    ")"
   ]
  },
  {
   "cell_type": "code",
   "execution_count": null,
   "id": "particular-universal",
   "metadata": {},
   "outputs": [],
   "source": [
    "trainer.train()"
   ]
  },
  {
   "cell_type": "code",
   "execution_count": null,
   "id": "thrown-republican",
   "metadata": {},
   "outputs": [],
   "source": [
    "trainer.evaluate()"
   ]
  },
  {
   "cell_type": "code",
   "execution_count": null,
   "id": "automotive-defensive",
   "metadata": {},
   "outputs": [],
   "source": [
    "trainer.save_model(\"../models/kb_bert.pt\")"
   ]
  },
  {
   "cell_type": "code",
   "execution_count": null,
   "id": "individual-stream",
   "metadata": {},
   "outputs": [],
   "source": [
    "### num_parameters = sum(p.numel() for p in model.parameters())"
   ]
  },
  {
   "cell_type": "code",
   "execution_count": null,
   "id": "informational-morgan",
   "metadata": {},
   "outputs": [],
   "source": [
    "num_parameters"
   ]
  },
  {
   "cell_type": "code",
   "execution_count": null,
   "id": "quantitative-proposition",
   "metadata": {},
   "outputs": [],
   "source": []
  }
 ],
 "metadata": {
  "kernelspec": {
   "display_name": "Python 3 (ipykernel)",
   "language": "python",
   "name": "python3"
  },
  "language_info": {
   "codemirror_mode": {
    "name": "ipython",
    "version": 3
   },
   "file_extension": ".py",
   "mimetype": "text/x-python",
   "name": "python",
   "nbconvert_exporter": "python",
   "pygments_lexer": "ipython3",
   "version": "3.8.5"
  }
 },
 "nbformat": 4,
 "nbformat_minor": 5
}

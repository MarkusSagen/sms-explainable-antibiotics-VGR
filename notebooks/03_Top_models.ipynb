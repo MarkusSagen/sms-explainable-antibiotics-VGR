{
 "cells": [
  {
   "cell_type": "markdown",
   "id": "994fcf6b-18d4-478d-97d5-49e5590c560b",
   "metadata": {},
   "source": [
    "# Training the best models\n",
    "For this specific task, we found the best parameters for the differnt models and make it into a separate notebook for training"
   ]
  },
  {
   "cell_type": "code",
   "execution_count": null,
   "id": "norwegian-credit",
   "metadata": {},
   "outputs": [],
   "source": [
    "import torch\n",
    "import torch.nn as nn\n",
    "\n",
    "from transformers import AlbertTokenizer, AutoTokenizer, AutoModelForSequenceClassification\n",
    "from transformers import AlbertForSequenceClassification, BertConfig, TrainingArguments, Trainer\n",
    "\n",
    "# For logging experiments when training\n",
    "from transformers.integrations import NeptuneCallback, WandbCallback, TensorBoardCallback\n",
    "\n",
    "from datasets import load_dataset\n",
    "import numpy as np\n",
    "import pandas as pd\n",
    "\n",
    "from sklearn.metrics import accuracy_score, precision_recall_fscore_support"
   ]
  },
  {
   "cell_type": "code",
   "execution_count": null,
   "id": "measured-ballet",
   "metadata": {},
   "outputs": [],
   "source": [
    "kb_bert = 'KB/bert-base-swedish-cased'\n",
    "kb_electra = 'KB/electra-base-swedish-cased-discriminator'\n",
    "kb_albert = 'KB/albert-base-swedish-cased-alpha'\n",
    "mbert = 'bert-base-multilingual-cased'\n",
    "xlmr = 'xlm-roberta-base'\n",
    "\n",
    "#tokenizer = AutoTokenizer.from_pretrained(mbert)\n",
    "#model = AutoModelForSequenceClassification.from_pretrained(mbert)\n",
    "\n",
    "#tokenizer = AlbertTokenizer.from_pretrained(kb_albert)\n",
    "#model = AlbertForSequenceClassification.from_pretrained(kb_albert)\n",
    "\n",
    "#tokenizer = AutoTokenizer.from_pretrained(kb_electra)\n",
    "#model = AutoModelForSequenceClassification.from_pretrained(kb_electra)\n",
    "\n",
    "tokenizer = AutoTokenizer.from_pretrained(xlmr)\n",
    "model = AutoModelForSequenceClassification.from_pretrained(xlmr)"
   ]
  },
  {
   "cell_type": "code",
   "execution_count": null,
   "id": "central-purpose",
   "metadata": {},
   "outputs": [],
   "source": [
    "train_dataset = load_dataset(\"csv\", data_files='../data/train2.csv')\n",
    "test_dataset = load_dataset(\"csv\", data_files='../data/test2.csv')"
   ]
  },
  {
   "cell_type": "code",
   "execution_count": null,
   "id": "guided-transcript",
   "metadata": {},
   "outputs": [],
   "source": [
    "def tokenize(batch):\n",
    "    return tokenizer(batch['text'], padding='max_length', truncation=True,  max_length = 512, add_special_tokens = True)\n",
    "\n",
    "\n",
    "train_dataset = train_dataset.map(tokenize, batched=True, batch_size=len(train_dataset))\n",
    "test_dataset = test_dataset.map(tokenize, batched=True, batch_size=len(test_dataset))\n",
    "\n",
    "train_dataset.set_format('torch', columns=['input_ids', 'attention_mask', 'label'])\n",
    "test_dataset.set_format('torch', columns=['input_ids', 'attention_mask', 'label'])"
   ]
  },
  {
   "cell_type": "code",
   "execution_count": null,
   "id": "acquired-homework",
   "metadata": {},
   "outputs": [],
   "source": [
    "def compute_metrics(pred):\n",
    "    labels = pred.label_ids\n",
    "    preds = pred.predictions.argmax(-1)\n",
    "    precision, recall, f1, _ = precision_recall_fscore_support(labels, preds, average='binary')\n",
    "    acc = accuracy_score(labels, preds)\n",
    "    return {\n",
    "        'accuracy': acc,\n",
    "        'f1': f1,\n",
    "        'precision': precision,\n",
    "        'recall': recall\n",
    "    }\n",
    "\n",
    "\n",
    "training_args = TrainingArguments(\n",
    "    output_dir='./results',\n",
    "    evaluation_strategy = \"steps\",\n",
    "    eval_steps = 250,\n",
    "    logging_steps = 250,\n",
    "    num_train_epochs=6,\n",
    "    per_device_train_batch_size=16,\n",
    "    per_device_eval_batch_size=64,\n",
    "    warmup_steps=500,                       \n",
    "    #warmup_steps=1000,                     # KB Alberta only\n",
    "    learning_rate=5e-5,                     \n",
    "    #learning_rate=3e-5,                    # KB Alberta only\n",
    "    weight_decay=0.01,\n",
    "    do_eval=True,\n",
    "    logging_dir='./logs',\n",
    "    load_best_model_at_end=True,\n",
    "    metric_for_best_model=\"eval_accuracy\",\n",
    ")\n",
    "\n",
    "trainer = Trainer(\n",
    "    model=model,\n",
    "    args=training_args,\n",
    "    compute_metrics=compute_metrics,\n",
    "    train_dataset=train_dataset['train'],\n",
    "    eval_dataset=test_dataset['train'],\n",
    "    callbacks=[NeptuneCallback],             # This will ensure that experiments are logged\n",
    ")"
   ]
  },
  {
   "cell_type": "code",
   "execution_count": null,
   "id": "copyrighted-tracker",
   "metadata": {},
   "outputs": [],
   "source": [
    "trainer.train()"
   ]
  },
  {
   "cell_type": "code",
   "execution_count": null,
   "id": "found-magazine",
   "metadata": {},
   "outputs": [],
   "source": [
    "trainer.evaluate()"
   ]
  },
  {
   "cell_type": "code",
   "execution_count": null,
   "id": "chubby-campbell",
   "metadata": {},
   "outputs": [],
   "source": [
    "#trainer.save_model(\"../models/kb_albert.pt\")\n",
    "#trainer.save_model(\"../models/mBert.pt\")\n",
    "#trainer.save_model(\"../models/kb_electra.pt\")\n",
    "trainer.save_model(\"../models/xlmr.pt\")\n"
   ]
  },
  {
   "cell_type": "code",
   "execution_count": null,
   "id": "fallen-carol",
   "metadata": {},
   "outputs": [],
   "source": [
    "num_parameters = sum(p.numel() for p in model.parameters())"
   ]
  },
  {
   "cell_type": "code",
   "execution_count": null,
   "id": "stable-damage",
   "metadata": {},
   "outputs": [],
   "source": [
    "num_parameters"
   ]
  },
  {
   "cell_type": "code",
   "execution_count": null,
   "id": "anticipated-application",
   "metadata": {},
   "outputs": [],
   "source": []
  }
 ],
 "metadata": {
  "kernelspec": {
   "display_name": "explainable_antibiotics",
   "language": "python",
   "name": "explainable_antibiotics"
  },
  "language_info": {
   "codemirror_mode": {
    "name": "ipython",
    "version": 3
   },
   "file_extension": ".py",
   "mimetype": "text/x-python",
   "name": "python",
   "nbconvert_exporter": "python",
   "pygments_lexer": "ipython3",
   "version": "3.8.5"
  }
 },
 "nbformat": 4,
 "nbformat_minor": 5
}
